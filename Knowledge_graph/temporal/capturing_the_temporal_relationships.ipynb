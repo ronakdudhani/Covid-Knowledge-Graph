{
  "cells": [
    {
      "cell_type": "markdown",
      "metadata": {
        "colab_type": "text",
        "id": "view-in-github"
      },
      "source": [
        "<a href=\"https://colab.research.google.com/github/Singhsansar/Covid-Knowledge-Graph/blob/main/capturing_the_temporal_relationships.ipynb\" target=\"_parent\"><img src=\"https://colab.research.google.com/assets/colab-badge.svg\" alt=\"Open In Colab\"/></a>"
      ]
    },
    {
      "cell_type": "code",
      "execution_count": 2,
      "metadata": {
        "colab": {
          "base_uri": "https://localhost:8080/"
        },
        "id": "B6dOVWcgZ6QI",
        "outputId": "aa561543-4b39-4be8-f47c-8ce431d99d5d"
      },
      "outputs": [
        {
          "name": "stdout",
          "output_type": "stream",
          "text": [
            "Requirement already satisfied: neo4j in ./.venv/lib/python3.10/site-packages (5.16.0)\n",
            "Requirement already satisfied: pytz in ./.venv/lib/python3.10/site-packages (from neo4j) (2023.3.post1)\n",
            "Requirement already satisfied: py2neo in ./.venv/lib/python3.10/site-packages (2021.2.4)\n",
            "Requirement already satisfied: certifi in ./.venv/lib/python3.10/site-packages (from py2neo) (2023.11.17)\n",
            "Requirement already satisfied: interchange~=2021.0.4 in ./.venv/lib/python3.10/site-packages (from py2neo) (2021.0.4)\n",
            "Requirement already satisfied: monotonic in ./.venv/lib/python3.10/site-packages (from py2neo) (1.6)\n",
            "Requirement already satisfied: packaging in ./.venv/lib/python3.10/site-packages (from py2neo) (23.2)\n",
            "Requirement already satisfied: pansi>=2020.7.3 in ./.venv/lib/python3.10/site-packages (from py2neo) (2020.7.3)\n",
            "Requirement already satisfied: pygments>=2.0.0 in ./.venv/lib/python3.10/site-packages (from py2neo) (2.17.2)\n",
            "Requirement already satisfied: six>=1.15.0 in ./.venv/lib/python3.10/site-packages (from py2neo) (1.16.0)\n",
            "Requirement already satisfied: urllib3 in ./.venv/lib/python3.10/site-packages (from py2neo) (2.1.0)\n",
            "Requirement already satisfied: pytz in ./.venv/lib/python3.10/site-packages (from interchange~=2021.0.4->py2neo) (2023.3.post1)\n"
          ]
        }
      ],
      "source": [
        "\n",
        "!pip install neo4j\n",
        "!pip install py2neo"
      ]
    },
    {
      "cell_type": "code",
      "execution_count": 4,
      "metadata": {
        "id": "_1BOYxeoaiM4"
      },
      "outputs": [],
      "source": [
        "from neo4j import GraphDatabase\n",
        "uri = \"bolt://3.231.19.55:7687\"\n",
        "username = \"neo4j\"\n",
        "password = \"hearts-wire-swaps\"\n",
        "driver = GraphDatabase.driver(uri, auth=(username, password))"
      ]
    },
    {
      "cell_type": "code",
      "execution_count": 5,
      "metadata": {
        "id": "8I7wy0dmZ4zj"
      },
      "outputs": [],
      "source": [
        "def insert_into_graph_database(source, target, label, temp_relation):\n",
        "    create_node_query = \"CREATE (n:Node {id: $id, label: $label})\"\n",
        "\n",
        "    create_relationship_query = (\n",
        "        \"MATCH (source:Node {id: $source_id}), (target:Node {id: $target_id}) \"\n",
        "        \"CREATE (source)-[:RELATIONSHIP {label: $label, temporal_relation: $temp_relation, weight: 1}]->(target), \"\n",
        "        \"(source)<-[:RELATIONSHIP {label: $label, temporal_relation: $temp_relation, weight: 1}]-(target)\"\n",
        "    )\n",
        "\n",
        "    try:\n",
        "        with driver.session() as session:\n",
        "            # Create nodes\n",
        "            session.run(create_node_query, id=source, label=label)\n",
        "            session.run(create_node_query, id=target, label=label)\n",
        "\n",
        "            # Create relationships\n",
        "            session.run(create_relationship_query, source_id=source, target_id=target, label=label, temp_relation=temp_relation)\n",
        "\n",
        "        print(\"Nodes and relationships inserted successfully.\")\n",
        "    except Exception as e:\n",
        "        print(f\"Error during insertion: {e}\")\n"
      ]
    },
    {
      "cell_type": "code",
      "execution_count": 12,
      "metadata": {
        "colab": {
          "base_uri": "https://localhost:8080/"
        },
        "id": "z9sAmHuoYnwc",
        "outputId": "b57300be-7075-4057-9536-92a45e6efb43"
      },
      "outputs": [
        {
          "name": "stderr",
          "output_type": "stream",
          "text": [
            "<ipython-input-5-fa21ec185446>:11: DeprecationWarning: Using a driver after it has been closed is deprecated. Future versions of the driver will raise an error.\n",
            "  with driver.session() as session:\n"
          ]
        },
        {
          "name": "stdout",
          "output_type": "stream",
          "text": [
            "Nodes and relationships inserted successfully.\n"
          ]
        }
      ],
      "source": [
        "import json\n",
        "with open('output.json', 'r') as file:\n",
        "    data = json.load(file)\n",
        "\n",
        "i = 0\n",
        "for relationship in data:\n",
        "    source = relationship['source']\n",
        "    label = relationship['label']\n",
        "    target = relationship['target']\n",
        "    temp_relation= relationship['temporal_relation']\n",
        "\n",
        "    insert_into_graph_database(source,target,label,temp_relation)\n",
        "    break"
      ]
    },
    {
      "cell_type": "code",
      "execution_count": 17,
      "metadata": {
        "colab": {
          "base_uri": "https://localhost:8080/",
          "height": 516
        },
        "id": "JcJSGsOsa-ws",
        "outputId": "6a478a96-0efe-45b9-a515-ffb39586ebb9"
      },
      "outputs": [
        {
          "data": {
            "image/png": "[encoded data removed]",
            "text/plain": [
              "<Figure size 640x480 with 1 Axes>"
            ]
          },
          "metadata": {},
          "output_type": "display_data"
        }
      ],
      "source": [
        "from neo4j import GraphDatabase\n",
        "import matplotlib.pyplot as plt\n",
        "import networkx as nx\n",
        "from py2neo import Graph\n",
        "\n",
        "uri = \"bolt://3.231.19.55:7687\"\n",
        "username = \"neo4j\"\n",
        "password = \"hearts-wire-swaps\"\n",
        "driver = GraphDatabase.driver(uri, auth=(username, password))\n",
        "\n",
        "def retrieve_graph_data():\n",
        "    graph = nx.Graph()\n",
        "    with driver.session(database=\"neo4j\") as session:\n",
        "        result = session.run(\"MATCH (n)-[r]->(m) RETURN n, r, m\")\n",
        "        for record in result:\n",
        "            source = record[\"n\"]\n",
        "            target = record[\"m\"]\n",
        "            relation = record[\"r\"]\n",
        "\n",
        "            graph.add_node(source[\"id\"], label=source[\"label\"])\n",
        "            graph.add_node(target[\"id\"], label=target[\"label\"])\n",
        "            graph.add_edge(source[\"id\"], target[\"id\"], relation=relation[\"label\"], temporal_relation=relation[\"temporal_relation\"], weight=relation[\"weight\"])\n",
        "    return graph\n",
        "\n",
        "def visualize_graph(graph, edge_length=1.0):\n",
        "    pos = nx.spring_layout(graph, k=edge_length)\n",
        "\n",
        "    labels = {(i, j): f\"{graph[i][j]['relation']}\\nTemporal Relation: {graph[i][j]['temporal_relation']}\\nWeight: {graph[i][j]['weight']}\" for i, j in graph.edges()}\n",
        "\n",
        "    nx.draw(graph, pos, with_labels=True, node_size=700, node_color=\"skyblue\", font_size=10)\n",
        "    nx.draw_networkx_edge_labels(graph, pos, edge_labels=labels, font_color='red', font_size=8)\n",
        "\n",
        "    plt.show()\n",
        "\n",
        "# Example usage\n",
        "graph_data = retrieve_graph_data()\n",
        "visualize_graph(graph_data, edge_length=0.5)\n",
        "driver.close()\n"
      ]
    },
    {
      "cell_type": "code",
      "execution_count": 11,
      "metadata": {
        "id": "MmKBzWabZidI"
      },
      "outputs": [],
      "source": [
        "from neo4j import GraphDatabase\n",
        "uri = \"bolt://3.231.19.55:7687\"\n",
        "username = \"neo4j\"\n",
        "password = \"hearts-wire-swaps\"\n",
        "driver = GraphDatabase.driver(uri, auth=(username, password))\n",
        "\n",
        "# Function to delete nodes and relationships\n",
        "def delete_nodes_and_relationships():\n",
        "    with driver.session() as session:\n",
        "          session.run(\"MATCH (n) DETACH DELETE n\")\n",
        "\n",
        "# Call the function to delete everything\n",
        "delete_nodes_and_relationships()\n",
        "driver.close()"
      ]
    },
    {
      "cell_type": "code",
      "execution_count": 15,
      "metadata": {
        "colab": {
          "base_uri": "https://localhost:8080/"
        },
        "id": "1faIDB54c6UB",
        "outputId": "e54faaff-6374-4522-88d0-0e376fafbaa7"
      },
      "outputs": [
        {
          "name": "stdout",
          "output_type": "stream",
          "text": [
            "Source Node: symptom (may_appear_after)\n",
            "Relationship: may_appear_after (Temporal Relation: 2-14 days, Weight: 1)\n",
            "Target Node: appear (may_appear_after)\n",
            "----------------------------------------\n",
            "Source Node: appear (may_appear_after)\n",
            "Relationship: may_appear_after (Temporal Relation: 2-14 days, Weight: 1)\n",
            "Target Node: symptom (may_appear_after)\n",
            "----------------------------------------\n"
          ]
        }
      ],
      "source": [
        "from py2neo import Graph\n",
        "\n",
        "uri = \"bolt://3.231.19.55:7687\"\n",
        "username = \"neo4j\"\n",
        "password = \"hearts-wire-swaps\"\n",
        "\n",
        "graph = Graph(uri, auth=(username, password))\n",
        "\n",
        "cypher_query = \"\"\"\n",
        "MATCH (source:Node)-[relation:RELATIONSHIP]->(target:Node)\n",
        "RETURN source.id AS source_id, source.label AS source_label,\n",
        "       relation.label AS relationship_label, relation.temporal_relation AS temporal_relation, relation.weight AS relationship_weight,\n",
        "       target.id AS target_id, target.label AS target_label\n",
        "\"\"\"\n",
        "\n",
        "result = graph.run(cypher_query)\n",
        "\n",
        "for record in result:\n",
        "    print(f\"Source Node: {record['source_id']} ({record['source_label']})\")\n",
        "    print(f\"Relationship: {record['relationship_label']} (Temporal Relation: {record['temporal_relation']}, Weight: {record['relationship_weight']})\")\n",
        "    print(f\"Target Node: {record['target_id']} ({record['target_label']})\")\n",
        "    print(\"-\" * 40)\n"
      ]
    }
  ],
  "metadata": {
    "colab": {
      "authorship_tag": "ABX9TyMitaht//6rDW9XEFLmLOFE",
      "include_colab_link": true,
      "provenance": []
    },
    "kernelspec": {
      "display_name": "Python 3",
      "name": "python3"
    },
    "language_info": {
      "codemirror_mode": {
        "name": "ipython",
        "version": 3
      },
      "file_extension": ".py",
      "mimetype": "text/x-python",
      "name": "python",
      "nbconvert_exporter": "python",
      "pygments_lexer": "ipython3",
      "version": "3.10.12"
    }
  },
  "nbformat": 4,
  "nbformat_minor": 0
}
