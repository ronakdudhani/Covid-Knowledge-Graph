{
 "cells": [
  {
   "cell_type": "code",
   "execution_count": 11,
   "metadata": {},
   "outputs": [],
   "source": [
    "#pip install neo4j\n"
   ]
  },
  {
   "cell_type": "code",
   "execution_count": 23,
   "metadata": {},
   "outputs": [],
   "source": [
    "from neo4j import GraphDatabase\n",
    "uri = \"bolt://3.231.19.55:7687\"  \n",
    "username = \"neo4j\"\n",
    "password = \"hearts-wire-swaps\"\n",
    "driver = GraphDatabase.driver(uri, auth=(username, password))"
   ]
  },
  {
   "cell_type": "code",
   "execution_count": 24,
   "metadata": {},
   "outputs": [
    {
     "name": "stderr",
     "output_type": "stream",
     "text": [
      "/tmp/ipykernel_10206/2097300615.py:8: DeprecationWarning: read_transaction has been renamed to execute_read\n",
      "  results = session.read_transaction(\n"
     ]
    },
    {
     "name": "stdout",
     "output_type": "stream",
     "text": [
      "0\n"
     ]
    }
   ],
   "source": [
    "cypher_query = '''\n",
    "MATCH (n)\n",
    "RETURN COUNT(n) AS count\n",
    "LIMIT $limit\n",
    "'''\n",
    "\n",
    "with driver.session(database=\"neo4j\") as session:\n",
    "    results = session.read_transaction(\n",
    "        lambda tx: tx.run(cypher_query, limit=10).data())  # Pass limit as an integer, not a string\n",
    "    for record in results:\n",
    "        print(record['count'])\n",
    "\n",
    "driver.close()\n"
   ]
  },
  {
   "cell_type": "code",
   "execution_count": 26,
   "metadata": {},
   "outputs": [
    {
     "name": "stdout",
     "output_type": "stream",
     "text": [
      "Source: pet contract respiratory illness\n",
      "Target: common cold\n",
      "Label: specifically caused by\n",
      "\n",
      "Source: common cold\n",
      "Target: human rhinovirus\n",
      "Label: caused by\n",
      "\n",
      "Source: pet contract respiratory illness\n",
      "Target: transmissible animal\n",
      "Label: transmissible to\n",
      "\n",
      "Source: transmissible animal\n",
      "Target: cat\n",
      "Label: includes\n",
      "\n",
      "Source: transmissible animal\n",
      "Target: dog\n",
      "Label: includes\n",
      "\n",
      "Source: transmissible animal\n",
      "Target: domestic pet\n",
      "Label: includes\n",
      "\n",
      "Source: respiratory intestinal infection\n",
      "Target: animal\n",
      "Label: caused by\n",
      "\n",
      "Source: respiratory intestinal infection\n",
      "Target: canine feline coronaviruses\n",
      "Label: caused by\n",
      "\n",
      "Source: respiratory intestinal infection\n",
      "Target: strain\n",
      "Label: caused by\n",
      "\n",
      "Source: COVID-19\n",
      "Target: human coronavirus\n",
      "Label: caused by\n",
      "\n",
      "Source: COVID-19\n",
      "Target: direct transmission\n",
      "Label: caused by\n",
      "\n",
      "Source: direct transmission\n",
      "Target: human\n",
      "Label: from\n",
      "\n",
      "Source: direct transmission\n",
      "Target: pet\n",
      "Label: to\n",
      "\n",
      "Source: good hygiene practice\n",
      "Target: interact animal\n",
      "Label: crucial for\n",
      "\n",
      "Source: good hygiene practice\n",
      "Target: wash hand handle\n",
      "Label: crucial for\n",
      "\n",
      "Source: good hygiene practice\n",
      "Target: prevent spread\n",
      "Label: crucial for\n",
      "\n",
      "Source: prevent spread\n",
      "Target: potential pathogen\n",
      "Label: of\n",
      "\n",
      "Source: potential pathogen\n",
      "Target: human\n",
      "Label: from\n",
      "\n",
      "Source: potential pathogen\n",
      "Target: animal\n",
      "Label: to\n",
      "\n",
      "Source: pet\n",
      "Target: vaccinate\n",
      "Label: keep\n",
      "\n",
      "Source: pet\n",
      "Target: receive regular veterinary care\n",
      "Label: keep\n",
      "\n",
      "Source: respiratory infection\n",
      "Target: prevent\n",
      "Label: help\n",
      "\n",
      "Source: respiratory infection\n",
      "Target: manage\n",
      "Label: help\n",
      "\n"
     ]
    }
   ],
   "source": [
    "import json\n",
    "\n",
    "\n",
    "with open('output.json', 'r') as json_file:\n",
    "    data = json.load(json_file)\n",
    "if isinstance(data, list) and len(data) == 2 and isinstance(data[1], dict) and \"relationships\" in data[1]:\n",
    "    for relationship in data[1][\"relationships\"]:\n",
    "        print(\"Source:\", relationship[\"source\"])\n",
    "        print(\"Target:\", relationship[\"target\"])\n",
    "        print(\"Label:\", relationship[\"label\"])\n",
    "        print()\n",
    "else:\n",
    "    print(\"Invalid or unexpected JSON file structure.\")\n"
   ]
  },
  {
   "cell_type": "markdown",
   "metadata": {},
   "source": [
    "## Insering the Nodes and Edges to the graph "
   ]
  },
  {
   "cell_type": "code",
   "execution_count": 37,
   "metadata": {},
   "outputs": [],
   "source": [
    "#this function will take the source, targe and label, to perfrom the insertions\n",
    "def insert_nodes_and_relationships(source, target, label):\n",
    "    create_node_query = \"CREATE (n:Node {id: $id, label: $label})\"\n",
    "    create_relationship_query = \"MATCH (source:Node {id: $source_id}), (target:Node {id: $target_id}) \" \\\n",
    "                                \"CREATE (source)-[:RELATIONSHIP {label: $label}]->(target)\"\n",
    "    try:\n",
    "        with driver.session() as session:\n",
    "            # Create source node with label\n",
    "            session.run(create_node_query, id=source, label=label)\n",
    "\n",
    "            # Create target node with label\n",
    "            session.run(create_node_query, id=target, label=label)\n",
    "\n",
    "            # Create relationship\n",
    "            session.run(create_relationship_query, source_id=source, target_id=target, label=label)\n",
    "\n",
    "        print(\"Nodes and relationship inserted successfully.\")\n",
    "    except Exception as e:\n",
    "        print(f\"Error during insertion: {e}\")\n"
   ]
  },
  {
   "cell_type": "code",
   "execution_count": 38,
   "metadata": {},
   "outputs": [],
   "source": [
    "def adding_neo4j_graph():\n",
    "    with open('output.json', 'r') as json_file:\n",
    "        data = json.load(json_file)\n",
    "\n",
    "    if isinstance(data, list) and len(data) == 2 and isinstance(data[1], dict) and \"relationships\" in data[1]:\n",
    "        for relationship in data[1][\"relationships\"]:\n",
    "            insert_nodes_and_relationships(relationship[\"source\"],relationship[\"source\"],relationship[\"label\"])\n",
    "    else:\n",
    "        print(\"Invalid or unexpected JSON file structure.\")\n"
   ]
  },
  {
   "cell_type": "code",
   "execution_count": 43,
   "metadata": {},
   "outputs": [
    {
     "name": "stdout",
     "output_type": "stream",
     "text": [
      "Nodes and relationship inserted successfully.\n",
      "Nodes and relationship inserted successfully.\n"
     ]
    },
    {
     "name": "stdout",
     "output_type": "stream",
     "text": [
      "Nodes and relationship inserted successfully.\n",
      "Nodes and relationship inserted successfully.\n",
      "Nodes and relationship inserted successfully.\n",
      "Nodes and relationship inserted successfully.\n",
      "Nodes and relationship inserted successfully.\n",
      "Nodes and relationship inserted successfully.\n",
      "Nodes and relationship inserted successfully.\n",
      "Nodes and relationship inserted successfully.\n",
      "Nodes and relationship inserted successfully.\n",
      "Nodes and relationship inserted successfully.\n",
      "Nodes and relationship inserted successfully.\n",
      "Nodes and relationship inserted successfully.\n",
      "Nodes and relationship inserted successfully.\n",
      "Nodes and relationship inserted successfully.\n",
      "Nodes and relationship inserted successfully.\n",
      "Nodes and relationship inserted successfully.\n",
      "Nodes and relationship inserted successfully.\n",
      "Nodes and relationship inserted successfully.\n",
      "Nodes and relationship inserted successfully.\n",
      "Nodes and relationship inserted successfully.\n",
      "Nodes and relationship inserted successfully.\n"
     ]
    }
   ],
   "source": [
    "uri = \"bolt://3.231.19.55:7687\"  \n",
    "username = \"neo4j\"\n",
    "password = \"hearts-wire-swaps\"\n",
    "driver = GraphDatabase.driver(uri, auth=(username, password))\n",
    "adding_neo4j_graph()\n",
    "driver.close()"
   ]
  },
  {
   "cell_type": "code",
   "execution_count": 22,
   "metadata": {},
   "outputs": [
    {
     "name": "stdout",
     "output_type": "stream",
     "text": [
      "Collecting py2neo\n",
      "  Downloading py2neo-2021.2.4-py2.py3-none-any.whl.metadata (9.9 kB)\n",
      "Requirement already satisfied: certifi in /home/codespace/.local/lib/python3.10/site-packages (from py2neo) (2023.11.17)\n",
      "Collecting interchange~=2021.0.4 (from py2neo)\n",
      "  Downloading interchange-2021.0.4-py2.py3-none-any.whl (28 kB)\n",
      "Collecting monotonic (from py2neo)\n",
      "  Downloading monotonic-1.6-py2.py3-none-any.whl (8.2 kB)\n",
      "Requirement already satisfied: packaging in /home/codespace/.local/lib/python3.10/site-packages (from py2neo) (23.2)\n",
      "Collecting pansi>=2020.7.3 (from py2neo)\n",
      "  Downloading pansi-2020.7.3-py2.py3-none-any.whl (10 kB)\n",
      "Requirement already satisfied: pygments>=2.0.0 in /home/codespace/.local/lib/python3.10/site-packages (from py2neo) (2.17.2)\n",
      "Requirement already satisfied: six>=1.15.0 in /home/codespace/.local/lib/python3.10/site-packages (from py2neo) (1.16.0)\n",
      "Requirement already satisfied: urllib3 in /usr/local/python/3.10.13/lib/python3.10/site-packages (from py2neo) (2.0.7)\n",
      "Requirement already satisfied: pytz in /home/codespace/.local/lib/python3.10/site-packages (from interchange~=2021.0.4->py2neo) (2023.3.post1)\n",
      "Downloading py2neo-2021.2.4-py2.py3-none-any.whl (177 kB)\n",
      "\u001b[2K   \u001b[90m━━━━━━━━━━━━━━━━━━━━━━━━━━━━━━━━━━━━━━━━\u001b[0m \u001b[32m177.2/177.2 kB\u001b[0m \u001b[31m1.5 MB/s\u001b[0m eta \u001b[36m0:00:00\u001b[0m00:01\u001b[0m00:01\u001b[0m\n",
      "\u001b[?25hInstalling collected packages: monotonic, pansi, interchange, py2neo\n",
      "Successfully installed interchange-2021.0.4 monotonic-1.6 pansi-2020.7.3 py2neo-2021.2.4\n",
      "\n",
      "\u001b[1m[\u001b[0m\u001b[34;49mnotice\u001b[0m\u001b[1;39;49m]\u001b[0m\u001b[39;49m A new release of pip is available: \u001b[0m\u001b[31;49m23.3.1\u001b[0m\u001b[39;49m -> \u001b[0m\u001b[32;49m23.3.2\u001b[0m\n",
      "\u001b[1m[\u001b[0m\u001b[34;49mnotice\u001b[0m\u001b[1;39;49m]\u001b[0m\u001b[39;49m To update, run: \u001b[0m\u001b[32;49mpython -m pip install --upgrade pip\u001b[0m\n"
     ]
    }
   ],
   "source": [
    "!pip install py2neo"
   ]
  },
  {
   "cell_type": "markdown",
   "metadata": {},
   "source": [
    "## Importing and Visualizing "
   ]
  },
  {
   "cell_type": "code",
   "execution_count": 48,
   "metadata": {},
   "outputs": [
    {
     "data": {
      "image/png": "[encoded data removed]",
      "text/plain": [
       "<Figure size 640x480 with 1 Axes>"
      ]
     },
     "metadata": {},
     "output_type": "display_data"
    }
   ],
   "source": [
    "from neo4j import GraphDatabase\n",
    "import matplotlib.pyplot as plt\n",
    "import networkx as nx\n",
    "from py2neo import Graph\n",
    "\n",
    "\n",
    "uri = \"bolt://3.231.19.55:7687\"  \n",
    "username = \"neo4j\"\n",
    "password = \"hearts-wire-swaps\"\n",
    "driver = GraphDatabase.driver(uri, auth=(username, password))\n",
    "\n",
    "def retrieve_graph_data():\n",
    "    graph = nx.Graph()\n",
    "    driver = GraphDatabase.driver(uri, auth=(username, password))\n",
    "    with driver.session(database=\"neo4j\") as session:\n",
    "        result = session.run(\"MATCH (n)-[r]->(m) RETURN n, r, m\")\n",
    "        for record in result:\n",
    "            source = record[\"n\"]\n",
    "            target = record[\"m\"]\n",
    "            relation = record[\"r\"]\n",
    "            \n",
    "            graph.add_node(source[\"id\"], label=source[\"label\"])\n",
    "            graph.add_node(target[\"id\"], label=target[\"label\"])\n",
    "            graph.add_edge(source[\"id\"], target[\"id\"], label=relation[\"label\"])\n",
    "\n",
    "    return graph\n",
    "\n",
    "def visualize_graph(graph, edge_length=1.0):\n",
    "    pos = nx.spring_layout(graph, k=edge_length) \n",
    "    labels = nx.get_edge_attributes(graph, 'label')\n",
    "    nx.draw(graph, pos, with_labels=True, node_size=700, node_color=\"skyblue\", font_size=10)\n",
    "    nx.draw_networkx_edge_labels(graph, pos, edge_labels=labels)\n",
    "    plt.show()\n",
    "\n",
    "graph_data = retrieve_graph_data()\n",
    "visualize_graph(graph_data,edge_length=5)\n",
    "driver.close()\n"
   ]
  },
  {
   "cell_type": "markdown",
   "metadata": {},
   "source": [
    "## Deleting Everything in DataBase"
   ]
  },
  {
   "cell_type": "code",
   "execution_count": 41,
   "metadata": {},
   "outputs": [],
   "source": [
    "from neo4j import GraphDatabase\n",
    "\n",
    "\n",
    "uri = \"bolt://3.231.19.55:7687\"  \n",
    "username = \"neo4j\"\n",
    "password = \"hearts-wire-swaps\"\n",
    "driver = GraphDatabase.driver(uri, auth=(username, password))\n",
    "\n",
    "# Function to delete nodes and relationships\n",
    "def delete_nodes_and_relationships():\n",
    "    with driver.session() as session:\n",
    "          session.run(\"MATCH (n) DETACH DELETE n\")\n",
    "\n",
    "# Call the function to delete everything\n",
    "delete_nodes_and_relationships()\n",
    "driver.close()\n"
   ]
  },
  {
   "cell_type": "code",
   "execution_count": 45,
   "metadata": {},
   "outputs": [],
   "source": [
    "driver.close()"
   ]
  },
  {
   "cell_type": "code",
   "execution_count": null,
   "metadata": {},
   "outputs": [],
   "source": []
  }
 ],
 "metadata": {
  "kernelspec": {
   "display_name": "Python 3",
   "language": "python",
   "name": "python3"
  },
  "language_info": {
   "codemirror_mode": {
    "name": "ipython",
    "version": 3
   },
   "file_extension": ".py",
   "mimetype": "text/x-python",
   "name": "python",
   "nbconvert_exporter": "python",
   "pygments_lexer": "ipython3",
   "version": "3.10.13"
  }
 },
 "nbformat": 4,
 "nbformat_minor": 2
}
